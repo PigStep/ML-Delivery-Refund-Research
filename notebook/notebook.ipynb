{
 "cells": [
  {
   "cell_type": "code",
   "execution_count": 1,
   "id": "f3e7e2ff",
   "metadata": {},
   "outputs": [],
   "source": [
    "import pandas as pd\n",
    "import numpy as np\n",
    "\n",
    "%matplotlib inline\n",
    "import matplotlib.pyplot as plt\n",
    "import seaborn as sns "
   ]
  },
  {
   "cell_type": "code",
   "execution_count": 2,
   "id": "f1ad773c",
   "metadata": {},
   "outputs": [],
   "source": [
    "delivery_data = pd.read_csv(\"Ecommerce_Delivery_Analytics_New.csv\")"
   ]
  },
  {
   "cell_type": "code",
   "execution_count": 3,
   "id": "6b5c716d",
   "metadata": {},
   "outputs": [
    {
     "data": {
      "text/html": [
       "<div>\n",
       "<style scoped>\n",
       "    .dataframe tbody tr th:only-of-type {\n",
       "        vertical-align: middle;\n",
       "    }\n",
       "\n",
       "    .dataframe tbody tr th {\n",
       "        vertical-align: top;\n",
       "    }\n",
       "\n",
       "    .dataframe thead th {\n",
       "        text-align: right;\n",
       "    }\n",
       "</style>\n",
       "<table border=\"1\" class=\"dataframe\">\n",
       "  <thead>\n",
       "    <tr style=\"text-align: right;\">\n",
       "      <th></th>\n",
       "      <th>Order ID</th>\n",
       "      <th>Customer ID</th>\n",
       "      <th>Platform</th>\n",
       "      <th>Order Date &amp; Time</th>\n",
       "      <th>Delivery Time (Minutes)</th>\n",
       "      <th>Product Category</th>\n",
       "      <th>Order Value (INR)</th>\n",
       "      <th>Customer Feedback</th>\n",
       "      <th>Service Rating</th>\n",
       "      <th>Delivery Delay</th>\n",
       "      <th>Refund Requested</th>\n",
       "    </tr>\n",
       "  </thead>\n",
       "  <tbody>\n",
       "    <tr>\n",
       "      <th>0</th>\n",
       "      <td>ORD000001</td>\n",
       "      <td>CUST2824</td>\n",
       "      <td>JioMart</td>\n",
       "      <td>19:29.5</td>\n",
       "      <td>30</td>\n",
       "      <td>Fruits &amp; Vegetables</td>\n",
       "      <td>382</td>\n",
       "      <td>Fast delivery, great service!</td>\n",
       "      <td>5</td>\n",
       "      <td>No</td>\n",
       "      <td>No</td>\n",
       "    </tr>\n",
       "    <tr>\n",
       "      <th>1</th>\n",
       "      <td>ORD000002</td>\n",
       "      <td>CUST1409</td>\n",
       "      <td>Blinkit</td>\n",
       "      <td>54:29.5</td>\n",
       "      <td>16</td>\n",
       "      <td>Dairy</td>\n",
       "      <td>279</td>\n",
       "      <td>Quick and reliable!</td>\n",
       "      <td>5</td>\n",
       "      <td>No</td>\n",
       "      <td>No</td>\n",
       "    </tr>\n",
       "    <tr>\n",
       "      <th>2</th>\n",
       "      <td>ORD000003</td>\n",
       "      <td>CUST5506</td>\n",
       "      <td>JioMart</td>\n",
       "      <td>21:29.5</td>\n",
       "      <td>25</td>\n",
       "      <td>Beverages</td>\n",
       "      <td>599</td>\n",
       "      <td>Items missing from order.</td>\n",
       "      <td>2</td>\n",
       "      <td>No</td>\n",
       "      <td>Yes</td>\n",
       "    </tr>\n",
       "    <tr>\n",
       "      <th>3</th>\n",
       "      <td>ORD000004</td>\n",
       "      <td>CUST5012</td>\n",
       "      <td>JioMart</td>\n",
       "      <td>19:29.5</td>\n",
       "      <td>42</td>\n",
       "      <td>Beverages</td>\n",
       "      <td>946</td>\n",
       "      <td>Items missing from order.</td>\n",
       "      <td>2</td>\n",
       "      <td>Yes</td>\n",
       "      <td>Yes</td>\n",
       "    </tr>\n",
       "    <tr>\n",
       "      <th>4</th>\n",
       "      <td>ORD000005</td>\n",
       "      <td>CUST4657</td>\n",
       "      <td>Blinkit</td>\n",
       "      <td>49:29.5</td>\n",
       "      <td>30</td>\n",
       "      <td>Beverages</td>\n",
       "      <td>334</td>\n",
       "      <td>Fast delivery, great service!</td>\n",
       "      <td>5</td>\n",
       "      <td>No</td>\n",
       "      <td>No</td>\n",
       "    </tr>\n",
       "  </tbody>\n",
       "</table>\n",
       "</div>"
      ],
      "text/plain": [
       "    Order ID Customer ID Platform Order Date & Time  Delivery Time (Minutes)  \\\n",
       "0  ORD000001    CUST2824  JioMart           19:29.5                       30   \n",
       "1  ORD000002    CUST1409  Blinkit           54:29.5                       16   \n",
       "2  ORD000003    CUST5506  JioMart           21:29.5                       25   \n",
       "3  ORD000004    CUST5012  JioMart           19:29.5                       42   \n",
       "4  ORD000005    CUST4657  Blinkit           49:29.5                       30   \n",
       "\n",
       "      Product Category  Order Value (INR)              Customer Feedback  \\\n",
       "0  Fruits & Vegetables                382  Fast delivery, great service!   \n",
       "1                Dairy                279            Quick and reliable!   \n",
       "2            Beverages                599      Items missing from order.   \n",
       "3            Beverages                946      Items missing from order.   \n",
       "4            Beverages                334  Fast delivery, great service!   \n",
       "\n",
       "   Service Rating Delivery Delay Refund Requested  \n",
       "0               5             No               No  \n",
       "1               5             No               No  \n",
       "2               2             No              Yes  \n",
       "3               2            Yes              Yes  \n",
       "4               5             No               No  "
      ]
     },
     "execution_count": 3,
     "metadata": {},
     "output_type": "execute_result"
    }
   ],
   "source": [
    "delivery_data.head()"
   ]
  },
  {
   "cell_type": "markdown",
   "id": "1356ea55",
   "metadata": {},
   "source": [
    "# Предобработка данных"
   ]
  },
  {
   "cell_type": "code",
   "execution_count": 4,
   "id": "ca182278",
   "metadata": {},
   "outputs": [],
   "source": [
    "def getClearId(stringId, bound):\n",
    "    \"\"\"\n",
    "    Форматирование поля ID по отступу\n",
    "    \"\"\"\n",
    "    id = stringId[bound:]\n",
    "    return int(id)"
   ]
  },
  {
   "cell_type": "code",
   "execution_count": 5,
   "id": "1d49fb7a",
   "metadata": {},
   "outputs": [],
   "source": [
    "\n",
    "orders_id = delivery_data[\"Order ID\"].astype(str).apply(lambda x: getClearId(x,3))\n",
    "customer_id = delivery_data[\"Customer ID\"].astype(str).apply(lambda x: getClearId(x,4))\n",
    "\n",
    "delivery_data[\"Order ID\"] = orders_id\n",
    "delivery_data[\"Customer ID\"] = customer_id"
   ]
  },
  {
   "cell_type": "code",
   "execution_count": 6,
   "id": "ecc2a6cd",
   "metadata": {},
   "outputs": [],
   "source": [
    "delivery_data = delivery_data.rename(columns={\"Order ID\":\"orderID\",\n",
    "                      \"Customer ID\":\"customerID\",\n",
    "                      \"Order Date & Time\":\"time\",\n",
    "                      \"Delivery Time (Minutes)\":\"delivery_time\",\n",
    "                      \"Product Category\":\"category\",\n",
    "                      \"Order Value (INR)\":\"priceUSD\",\n",
    "                      \"Customer Feedback\":\"feedback\",\n",
    "                      \"Service Rating\":\"stars_rating\",\n",
    "                      \"Delivery Delay\":\"delivery_delay\",\n",
    "                      \"Refund Requested\":\"is_refunded\"})"
   ]
  },
  {
   "cell_type": "code",
   "execution_count": 7,
   "id": "f6cc0f06",
   "metadata": {},
   "outputs": [],
   "source": [
    "#перевод инийских рупий в USD на момент 5 мая 2025 года\n",
    "delivery_data[\"priceUSD\"] = (delivery_data.priceUSD * 0.012).round(2)"
   ]
  },
  {
   "cell_type": "markdown",
   "id": "370ae019",
   "metadata": {},
   "source": [
    "## Форматирование даты"
   ]
  },
  {
   "cell_type": "code",
   "execution_count": 8,
   "id": "74b6c29c",
   "metadata": {},
   "outputs": [],
   "source": [
    "from datetime import datetime"
   ]
  },
  {
   "cell_type": "code",
   "execution_count": 9,
   "id": "6827b7e8",
   "metadata": {},
   "outputs": [],
   "source": [
    "def format_time(time_str):\n",
    "    \"\"\"Форматирование времени в формате ЧАС:МИНУТЫ:СЕКУНДЫ\"\"\"\\\n",
    "    \n",
    "    time_str= time_str[:-2]\n",
    "    time_obj = datetime.strptime(time_str, \"%M:%S\")\n",
    "    return time_obj.time()"
   ]
  },
  {
   "cell_type": "code",
   "execution_count": 10,
   "id": "20b89f15",
   "metadata": {},
   "outputs": [],
   "source": [
    "delivery_data[\"time\"] = delivery_data.time.apply(lambda x: format_time(x))"
   ]
  },
  {
   "cell_type": "code",
   "execution_count": 11,
   "id": "85358c65",
   "metadata": {},
   "outputs": [
    {
     "data": {
      "text/html": [
       "<div>\n",
       "<style scoped>\n",
       "    .dataframe tbody tr th:only-of-type {\n",
       "        vertical-align: middle;\n",
       "    }\n",
       "\n",
       "    .dataframe tbody tr th {\n",
       "        vertical-align: top;\n",
       "    }\n",
       "\n",
       "    .dataframe thead th {\n",
       "        text-align: right;\n",
       "    }\n",
       "</style>\n",
       "<table border=\"1\" class=\"dataframe\">\n",
       "  <thead>\n",
       "    <tr style=\"text-align: right;\">\n",
       "      <th></th>\n",
       "      <th>orderID</th>\n",
       "      <th>customerID</th>\n",
       "      <th>Platform</th>\n",
       "      <th>time</th>\n",
       "      <th>delivery_time</th>\n",
       "      <th>category</th>\n",
       "      <th>priceUSD</th>\n",
       "      <th>feedback</th>\n",
       "      <th>stars_rating</th>\n",
       "      <th>delivery_delay</th>\n",
       "      <th>is_refunded</th>\n",
       "    </tr>\n",
       "  </thead>\n",
       "  <tbody>\n",
       "    <tr>\n",
       "      <th>0</th>\n",
       "      <td>1</td>\n",
       "      <td>2824</td>\n",
       "      <td>JioMart</td>\n",
       "      <td>00:19:29</td>\n",
       "      <td>30</td>\n",
       "      <td>Fruits &amp; Vegetables</td>\n",
       "      <td>4.58</td>\n",
       "      <td>Fast delivery, great service!</td>\n",
       "      <td>5</td>\n",
       "      <td>No</td>\n",
       "      <td>No</td>\n",
       "    </tr>\n",
       "    <tr>\n",
       "      <th>1</th>\n",
       "      <td>2</td>\n",
       "      <td>1409</td>\n",
       "      <td>Blinkit</td>\n",
       "      <td>00:54:29</td>\n",
       "      <td>16</td>\n",
       "      <td>Dairy</td>\n",
       "      <td>3.35</td>\n",
       "      <td>Quick and reliable!</td>\n",
       "      <td>5</td>\n",
       "      <td>No</td>\n",
       "      <td>No</td>\n",
       "    </tr>\n",
       "    <tr>\n",
       "      <th>2</th>\n",
       "      <td>3</td>\n",
       "      <td>5506</td>\n",
       "      <td>JioMart</td>\n",
       "      <td>00:21:29</td>\n",
       "      <td>25</td>\n",
       "      <td>Beverages</td>\n",
       "      <td>7.19</td>\n",
       "      <td>Items missing from order.</td>\n",
       "      <td>2</td>\n",
       "      <td>No</td>\n",
       "      <td>Yes</td>\n",
       "    </tr>\n",
       "    <tr>\n",
       "      <th>3</th>\n",
       "      <td>4</td>\n",
       "      <td>5012</td>\n",
       "      <td>JioMart</td>\n",
       "      <td>00:19:29</td>\n",
       "      <td>42</td>\n",
       "      <td>Beverages</td>\n",
       "      <td>11.35</td>\n",
       "      <td>Items missing from order.</td>\n",
       "      <td>2</td>\n",
       "      <td>Yes</td>\n",
       "      <td>Yes</td>\n",
       "    </tr>\n",
       "    <tr>\n",
       "      <th>4</th>\n",
       "      <td>5</td>\n",
       "      <td>4657</td>\n",
       "      <td>Blinkit</td>\n",
       "      <td>00:49:29</td>\n",
       "      <td>30</td>\n",
       "      <td>Beverages</td>\n",
       "      <td>4.01</td>\n",
       "      <td>Fast delivery, great service!</td>\n",
       "      <td>5</td>\n",
       "      <td>No</td>\n",
       "      <td>No</td>\n",
       "    </tr>\n",
       "  </tbody>\n",
       "</table>\n",
       "</div>"
      ],
      "text/plain": [
       "   orderID  customerID Platform      time  delivery_time             category  \\\n",
       "0        1        2824  JioMart  00:19:29             30  Fruits & Vegetables   \n",
       "1        2        1409  Blinkit  00:54:29             16                Dairy   \n",
       "2        3        5506  JioMart  00:21:29             25            Beverages   \n",
       "3        4        5012  JioMart  00:19:29             42            Beverages   \n",
       "4        5        4657  Blinkit  00:49:29             30            Beverages   \n",
       "\n",
       "   priceUSD                       feedback  stars_rating delivery_delay  \\\n",
       "0      4.58  Fast delivery, great service!             5             No   \n",
       "1      3.35            Quick and reliable!             5             No   \n",
       "2      7.19      Items missing from order.             2             No   \n",
       "3     11.35      Items missing from order.             2            Yes   \n",
       "4      4.01  Fast delivery, great service!             5             No   \n",
       "\n",
       "  is_refunded  \n",
       "0          No  \n",
       "1          No  \n",
       "2         Yes  \n",
       "3         Yes  \n",
       "4          No  "
      ]
     },
     "execution_count": 11,
     "metadata": {},
     "output_type": "execute_result"
    }
   ],
   "source": [
    "delivery_data.head()"
   ]
  },
  {
   "cell_type": "markdown",
   "id": "2ab3f748",
   "metadata": {},
   "source": [
    "# Визуализация данных"
   ]
  },
  {
   "cell_type": "code",
   "execution_count": 12,
   "id": "abc7f2d7",
   "metadata": {},
   "outputs": [
    {
     "data": {
      "text/plain": [
       "<Axes: xlabel='priceUSD', ylabel='is_refunded'>"
      ]
     },
     "execution_count": 12,
     "metadata": {},
     "output_type": "execute_result"
    },
    {
     "data": {
      "image/png": "[encoded data removed]",
      "text/plain": [
       "<Figure size 640x480 with 1 Axes>"
      ]
     },
     "metadata": {},
     "output_type": "display_data"
    }
   ],
   "source": [
    "sns.boxplot(delivery_data,x=\"priceUSD\",y=\"is_refunded\", hue=\"category\")"
   ]
  },
  {
   "cell_type": "code",
   "execution_count": 20,
   "id": "87c471d5",
   "metadata": {},
   "outputs": [
    {
     "data": {
      "text/plain": [
       "<Axes: xlabel='delivery_time', ylabel='is_refunded'>"
      ]
     },
     "execution_count": 20,
     "metadata": {},
     "output_type": "execute_result"
    },
    {
     "data": {
      "image/png": "[encoded data removed]",
      "text/plain": [
       "<Figure size 640x480 with 1 Axes>"
      ]
     },
     "metadata": {},
     "output_type": "display_data"
    }
   ],
   "source": [
    "sns.boxplot(delivery_data,x=\"delivery_time\", y=\"is_refunded\", hue=\"delivery_delay\")"
   ]
  },
  {
   "cell_type": "code",
   "execution_count": null,
   "id": "a5f32724",
   "metadata": {},
   "outputs": [],
   "source": []
  }
 ],
 "metadata": {
  "kernelspec": {
   "display_name": "Python 3",
   "language": "python",
   "name": "python3"
  },
  "language_info": {
   "codemirror_mode": {
    "name": "ipython",
    "version": 3
   },
   "file_extension": ".py",
   "mimetype": "text/x-python",
   "name": "python",
   "nbconvert_exporter": "python",
   "pygments_lexer": "ipython3",
   "version": "3.11.9"
  }
 },
 "nbformat": 4,
 "nbformat_minor": 5
}
