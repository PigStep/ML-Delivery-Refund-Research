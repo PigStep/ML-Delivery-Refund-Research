{
 "cells": [
  {
   "cell_type": "code",
   "execution_count": null,
   "id": "f3e7e2ff",
   "metadata": {},
   "outputs": [],
   "source": [
    "import pandas as pd\n",
    "import numpy as np\n",
    "\n",
    "%matplotlib inline\n",
    "import matplotlib.pyplot as plt\n",
    "import seaborn as sns \n",
    "\n",
    "from datetime import datetime, timedelta\n",
    "\n",
    "from scipy.stats import mannwhitneyu, chi2_contingency, ttest_ind\n",
    "from statsmodels.stats.proportion import proportion_confint\n",
    "\n",
    "from sklearn.cluster import KMeans"
   ]
  },
  {
   "cell_type": "markdown",
   "id": "ab2cf630",
   "metadata": {},
   "source": [
    "# Введение"
   ]
  },
  {
   "cell_type": "code",
   "execution_count": null,
   "id": "8af05139",
   "metadata": {},
   "outputs": [],
   "source": [
    "delivery_data =pd.read_csv(\"restaurant-orders.csv\")"
   ]
  },
  {
   "cell_type": "code",
   "execution_count": null,
   "id": "1b18900b",
   "metadata": {},
   "outputs": [],
   "source": [
    "delivery_data.columns"
   ]
  },
  {
   "cell_type": "code",
   "execution_count": null,
   "id": "1259d846",
   "metadata": {},
   "outputs": [],
   "source": [
    "delivery_data.isna().sum()"
   ]
  },
  {
   "cell_type": "code",
   "execution_count": null,
   "id": "f9e8b166",
   "metadata": {},
   "outputs": [],
   "source": [
    "delivery_data.head()"
   ]
  },
  {
   "cell_type": "markdown",
   "id": "6a9b37f0",
   "metadata": {},
   "source": [
    "# Предобработка данных"
   ]
  },
  {
   "cell_type": "code",
   "execution_count": null,
   "id": "7a1916f8",
   "metadata": {},
   "outputs": [],
   "source": [
    "delivery_data = delivery_data.rename(columns={\n",
    "    \"Time customer placed order\":\"time_ordered\",\n",
    "    \"Time order placed at restaurant\":\"time_placed\",\n",
    "    \"Time driver arrived at restaurant\":\"time_arrived\",\n",
    "    \"Delivery time\":\"time_delivered\",\n",
    "    \"Driver ID\":\"driver_id\",\n",
    "    \"Driver Name\":\"driver_name\",\n",
    "    \"Restaurant ID\":\"restaurant_id\",\n",
    "    \"Customer ID\":\"customer_id\",\n",
    "    \"Delivery Area\":\"delivery_area\",\n",
    "    \"Sub Total\":\"sub_total\",\n",
    "    \"Delivery fee\":\"delivery_fee\",\n",
    "    \"Service fee\":\"service_fee\",\n",
    "    \"Discount\":\"discount\",\n",
    "    \"Tip\":\"tip\",\n",
    "    \"Refunded amount\":\"refund\"\n",
    "})"
   ]
  },
  {
   "cell_type": "code",
   "execution_count": null,
   "id": "b8a1300a",
   "metadata": {},
   "outputs": [],
   "source": [
    "#ML модель основывается на данных для пользователя, колонки водителей и ресторанов излишни\n",
    "delivery_data = delivery_data.drop([\"driver_name\",\"restaurant_id\",\"driver_id\"],axis=1)\n",
    "\n",
    "#Время готовки позиции в ресторане и время приезда курьера в него можно опустить (кроме того данные содержат пропуски)\n",
    "delivery_data = delivery_data.drop([\"time_placed\",\"time_arrived\"], axis = 1)\n"
   ]
  },
  {
   "cell_type": "code",
   "execution_count": null,
   "id": "b9fa9f2a",
   "metadata": {},
   "outputs": [],
   "source": [
    "def get_normal_price(refund):\n",
    "    \"\"\"получить цену без $\"\"\"\n",
    "    refund = refund[1:]\n",
    "    return float(refund)"
   ]
  },
  {
   "cell_type": "code",
   "execution_count": null,
   "id": "7e5d3155",
   "metadata": {},
   "outputs": [],
   "source": [
    "#Преобразовать цены\n",
    "delivery_data[\"refund\"] = delivery_data.refund.astype(str).apply(lambda x: get_normal_price(x))\n",
    "delivery_data[\"tip\"] = delivery_data.tip.astype(str).apply(lambda x: get_normal_price(x))\n",
    "delivery_data[\"discount\"] = delivery_data.discount.astype(str).apply(lambda x: get_normal_price(x))\n",
    "delivery_data[\"service_fee\"] = delivery_data.service_fee.astype(str).apply(lambda x: get_normal_price(x))\n",
    "delivery_data[\"delivery_fee\"] = delivery_data.delivery_fee.astype(str).apply(lambda x: get_normal_price(x))\n",
    "\n",
    "#есть формат цены 1,000.14\n",
    "delivery_data[\"sub_total\"] = delivery_data.sub_total.str.replace(\",\",\"\")\n",
    "delivery_data[\"sub_total\"] = delivery_data.sub_total.astype(str).apply(lambda x: get_normal_price(x))"
   ]
  },
  {
   "cell_type": "code",
   "execution_count": null,
   "id": "9ee5d8c6",
   "metadata": {},
   "outputs": [],
   "source": [
    "delivery_data.head()"
   ]
  },
  {
   "cell_type": "markdown",
   "id": "4376b4dd",
   "metadata": {},
   "source": [
    "# Feature engineering (Базовый)"
   ]
  },
  {
   "cell_type": "markdown",
   "id": "7ad028e0",
   "metadata": {},
   "source": [
    "## Калькуляция времени доставки"
   ]
  },
  {
   "cell_type": "code",
   "execution_count": null,
   "id": "6c0801e1",
   "metadata": {},
   "outputs": [],
   "source": [
    "#преобразовываем строковое время в удобный формат времени\n",
    "time_ordered = delivery_data.time_ordered.apply(lambda x: datetime.strptime(x,\"%H:%M:%S\"))\n",
    "time_delivered = delivery_data.time_delivered.apply(lambda x: datetime.strptime(x,\"%H:%M:%S\"))\n",
    "\n",
    "time_delta_df = pd.DataFrame({\"time_ordered\":time_ordered,\n",
    "                              \"time_delivered\":time_delivered})"
   ]
  },
  {
   "cell_type": "code",
   "execution_count": null,
   "id": "e8c365c2",
   "metadata": {},
   "outputs": [],
   "source": [
    "def get_delivery_minutes(t_ordered, t_delivered):\n",
    "    # Если время доставки меньше времени заказа, значит, доставка на следующий день\n",
    "    if t_delivered < t_ordered:\n",
    "        t_delivered += timedelta(days=1)  # Добавляем 1 день\n",
    "    \n",
    "    delta = t_delivered - t_ordered\n",
    "    return round(delta.total_seconds() / 60, 2)  # Округляем до минут\n",
    "\n",
    "def get_delivery_time(row):\n",
    "    dt_ordered = row[\"time_ordered\"]\n",
    "    dt_delivered = row[\"time_delivered\"]\n",
    "    return get_delivery_minutes(dt_ordered,dt_delivered)"
   ]
  },
  {
   "cell_type": "code",
   "execution_count": null,
   "id": "391296d6",
   "metadata": {},
   "outputs": [],
   "source": [
    "#общее время доставки\n",
    "delivery_time = time_delta_df.apply(get_delivery_time, axis=1)\n",
    "\n",
    "delivery_data[\"delivery_time\"] = delivery_time"
   ]
  },
  {
   "cell_type": "code",
   "execution_count": null,
   "id": "3759b8a6",
   "metadata": {},
   "outputs": [],
   "source": [
    "delivery_data.head()"
   ]
  },
  {
   "cell_type": "markdown",
   "id": "17d54d12",
   "metadata": {},
   "source": [
    "## Вычисляем день недели\n",
    "Распределим даты по дням (понедельник, вторник, среда и т.д)"
   ]
  },
  {
   "cell_type": "code",
   "execution_count": null,
   "id": "338ebb10",
   "metadata": {},
   "outputs": [],
   "source": [
    "days = pd.to_datetime(delivery_data.Date)\n",
    "\n",
    "delivery_data[\"Date\"] = days.dt.day_name()"
   ]
  },
  {
   "cell_type": "code",
   "execution_count": null,
   "id": "3479d49b",
   "metadata": {},
   "outputs": [],
   "source": [
    "delivery_data.head()"
   ]
  },
  {
   "cell_type": "markdown",
   "id": "fb4bc505",
   "metadata": {},
   "source": [
    "# EDA"
   ]
  },
  {
   "cell_type": "markdown",
   "id": "8fd88ece",
   "metadata": {},
   "source": [
    "## Анализ распределений"
   ]
  },
  {
   "cell_type": "markdown",
   "id": "01b8426b",
   "metadata": {},
   "source": [
    "### Распределение классов"
   ]
  },
  {
   "cell_type": "markdown",
   "id": "1495b9c8",
   "metadata": {},
   "source": [
    "Неравномерное распределение классов, необходимо уравновешивание классов по формуле: $$n_{samples}/ (n_{classes} * np.bincount(y))$$"
   ]
  },
  {
   "cell_type": "code",
   "execution_count": null,
   "id": "d3ed1593",
   "metadata": {},
   "outputs": [],
   "source": [
    "refunds = delivery_data[delivery_data.refund>0].customer_id.count()\n",
    "non_refunds = delivery_data[delivery_data.refund==0].customer_id.count()\n",
    "\n",
    "print(f\"Количество возратов: {refunds}\")\n",
    "print(f\"Количество оформленных заказов: {non_refunds}\")\n",
    "print(f\"В процентном соотношении: {refunds / (non_refunds+refunds) *100:.2f}%\")"
   ]
  },
  {
   "cell_type": "markdown",
   "id": "e4600779",
   "metadata": {},
   "source": [
    "#### Распределение классов по дням недели"
   ]
  },
  {
   "cell_type": "code",
   "execution_count": null,
   "id": "c5d49d47",
   "metadata": {},
   "outputs": [],
   "source": [
    "date_table = (\n",
    "    delivery_data\n",
    "    .assign(refund=lambda x: x['refund'] > 0)  # Создаем временный столбец без копирования\n",
    "    .pivot_table(\n",
    "        index=\"refund\",\n",
    "        values=\"customer_id\",\n",
    "        columns=\"Date\",\n",
    "        aggfunc=\"count\",\n",
    "        fill_value=0\n",
    "    )\n",
    "    .reset_index()\n",
    ")\n",
    "date_table"
   ]
  },
  {
   "cell_type": "code",
   "execution_count": null,
   "id": "dc1b4480",
   "metadata": {},
   "outputs": [],
   "source": [
    "date_table.drop(columns='refund').sum(axis=1)"
   ]
  },
  {
   "cell_type": "markdown",
   "id": "99a92950",
   "metadata": {},
   "source": [
    "### Время доставки"
   ]
  },
  {
   "cell_type": "code",
   "execution_count": null,
   "id": "1df96dd8",
   "metadata": {},
   "outputs": [],
   "source": [
    "sns.kdeplot(delivery_data,x=\"delivery_time\")"
   ]
  },
  {
   "cell_type": "markdown",
   "id": "d412d948",
   "metadata": {},
   "source": [
    "### Цена доставки"
   ]
  },
  {
   "cell_type": "code",
   "execution_count": null,
   "id": "8181b277",
   "metadata": {},
   "outputs": [],
   "source": [
    "sns.kdeplot(delivery_data,x=\"sub_total\")"
   ]
  },
  {
   "cell_type": "markdown",
   "id": "c613d9a9",
   "metadata": {},
   "source": [
    "#### Аномалия"
   ]
  },
  {
   "cell_type": "markdown",
   "id": "39b986ec",
   "metadata": {},
   "source": [
    "На графике можно заметить, что цена некотых заказов нулевая"
   ]
  },
  {
   "cell_type": "code",
   "execution_count": null,
   "id": "de5d166c",
   "metadata": {},
   "outputs": [],
   "source": [
    "print(f\"Количество таких наблюдений: {delivery_data[delivery_data.sub_total==0].customer_id.count()}\")"
   ]
  },
  {
   "cell_type": "code",
   "execution_count": null,
   "id": "f751e4b5",
   "metadata": {},
   "outputs": [],
   "source": [
    "delivery_data[delivery_data.sub_total==0].head()"
   ]
  },
  {
   "cell_type": "markdown",
   "id": "56929f3d",
   "metadata": {},
   "source": [
    "Возможные причины такого поведения цены включают ошибки транзакций, ошибки со стороны базы данных. Возможно это даже некоторая мошенническая махинация или системная уязвимость, в любом случае наблюдения любопытны и будут устранены"
   ]
  },
  {
   "cell_type": "code",
   "execution_count": null,
   "id": "fa9b1dc2",
   "metadata": {},
   "outputs": [],
   "source": [
    "#устранение аномалий\n",
    "delivery_data = delivery_data[delivery_data.sub_total!=0]\n",
    "sns.kdeplot(delivery_data,x=\"sub_total\")"
   ]
  },
  {
   "cell_type": "markdown",
   "id": "e816ca1d",
   "metadata": {},
   "source": [
    "### Побочные ценовые компоненты"
   ]
  },
  {
   "cell_type": "code",
   "execution_count": null,
   "id": "abd139a6",
   "metadata": {},
   "outputs": [],
   "source": [
    "sns.kdeplot(delivery_data,x=\"delivery_fee\")"
   ]
  },
  {
   "cell_type": "code",
   "execution_count": null,
   "id": "0320e4a8",
   "metadata": {},
   "outputs": [],
   "source": [
    "sns.kdeplot(delivery_data,x=\"service_fee\")"
   ]
  },
  {
   "cell_type": "code",
   "execution_count": null,
   "id": "06cdf472",
   "metadata": {},
   "outputs": [],
   "source": [
    "sns.kdeplot(delivery_data,x=\"discount\")"
   ]
  },
  {
   "cell_type": "code",
   "execution_count": null,
   "id": "a63f8bdf",
   "metadata": {},
   "outputs": [],
   "source": [
    "sns.kdeplot(delivery_data,x=\"tip\")"
   ]
  },
  {
   "cell_type": "markdown",
   "id": "45eba69f",
   "metadata": {},
   "source": [
    "### Дни недели"
   ]
  },
  {
   "cell_type": "code",
   "execution_count": null,
   "id": "44f42aad",
   "metadata": {},
   "outputs": [],
   "source": [
    "sns.countplot(delivery_data,x=\"Date\")"
   ]
  },
  {
   "cell_type": "markdown",
   "id": "3137d57f",
   "metadata": {},
   "source": [
    "# Устранение выбросов"
   ]
  },
  {
   "cell_type": "markdown",
   "id": "7abc3010",
   "metadata": {},
   "source": [
    "## Выбросы веремени доставки"
   ]
  },
  {
   "cell_type": "code",
   "execution_count": null,
   "id": "724394d3",
   "metadata": {},
   "outputs": [],
   "source": [
    "sns.kdeplot(delivery_data,x=\"delivery_time\")"
   ]
  },
  {
   "cell_type": "code",
   "execution_count": null,
   "id": "bc032539",
   "metadata": {},
   "outputs": [],
   "source": [
    "normalized_delivery = 1 / delivery_data.delivery_time\n",
    "sns.kdeplot(normalized_delivery)"
   ]
  },
  {
   "cell_type": "code",
   "execution_count": null,
   "id": "2a95a60c",
   "metadata": {},
   "outputs": [],
   "source": [
    "print(f\"99-й персептиль: {normalized_delivery.quantile(0.99):.6f}\")\n",
    "\n",
    "#сметим все значения к 99-ому пернсептилю\n",
    "normalized_delivery = normalized_delivery.clip(upper = normalized_delivery.quantile(0.99))"
   ]
  },
  {
   "cell_type": "code",
   "execution_count": null,
   "id": "ed7b0f7d",
   "metadata": {},
   "outputs": [],
   "source": [
    "sns.kdeplot(normalized_delivery)"
   ]
  },
  {
   "cell_type": "code",
   "execution_count": null,
   "id": "78d5afbf",
   "metadata": {},
   "outputs": [],
   "source": [
    "delivery_data[\"delivery_time\"] = normalized_delivery\n",
    "\n",
    "bin =[0, 0.0016, 0.002, 1]  #подобрано через опущенную визуализацию\n",
    "labels = [\"extra_long\", \"long\", \"normal\"]\n",
    "delivery_data[\"delivery\"] = pd.cut(delivery_data[\"delivery_time\"],bins=bin,labels=labels)"
   ]
  },
  {
   "cell_type": "code",
   "execution_count": null,
   "id": "9ecb9b19",
   "metadata": {},
   "outputs": [],
   "source": [
    "sns.kdeplot(delivery_data, x=\"delivery_time\",hue=\"delivery\")"
   ]
  },
  {
   "cell_type": "code",
   "execution_count": null,
   "id": "bf8a6e32",
   "metadata": {},
   "outputs": [],
   "source": [
    "sns.kdeplot(delivery_data[(delivery_data.delivery ==\"extra_long\") | (delivery_data.delivery == \"long\")], x= \"delivery_time\", hue=\"delivery\")"
   ]
  },
  {
   "cell_type": "code",
   "execution_count": null,
   "id": "32d35114",
   "metadata": {},
   "outputs": [],
   "source": [
    "sns.kdeplot(delivery_data[(delivery_data.delivery ==\"normal\")], x= \"delivery_time\")"
   ]
  },
  {
   "cell_type": "markdown",
   "id": "059adddb",
   "metadata": {},
   "source": [
    "## Выбросы цены"
   ]
  },
  {
   "cell_type": "markdown",
   "id": "57b8cf56",
   "metadata": {},
   "source": [
    "Для цены товара используем обратную конвертацию (\"сжимаем большие цены к началу, отдавая приоритет меньшим значениям\")"
   ]
  },
  {
   "cell_type": "code",
   "execution_count": null,
   "id": "dfb24118",
   "metadata": {},
   "outputs": [],
   "source": [
    "delivery_data[\"sub_total\"] = 1 / delivery_data.sub_total"
   ]
  },
  {
   "cell_type": "code",
   "execution_count": null,
   "id": "24d1c3ab",
   "metadata": {},
   "outputs": [],
   "source": [
    "print(f\"99-й персенптиль обратной стоимости товара: {delivery_data.sub_total.quantile(0.99):.2f}\")\\\n",
    "\n",
    "threshold = delivery_data.sub_total.quantile(0.99)\n",
    "# delivery_data = delivery_data[delivery_data.sub_total <=threshold]\n",
    "\n",
    "delivery_data[\"sub_total\"] = delivery_data[\"sub_total\"].clip(upper=threshold)"
   ]
  },
  {
   "cell_type": "code",
   "execution_count": null,
   "id": "baa02153",
   "metadata": {},
   "outputs": [],
   "source": [
    "sns.kdeplot(delivery_data,x=\"sub_total\")"
   ]
  },
  {
   "cell_type": "markdown",
   "id": "7f98a4e8",
   "metadata": {},
   "source": [
    "## Выбросы скидок и чаевых"
   ]
  },
  {
   "cell_type": "code",
   "execution_count": null,
   "id": "914233b3",
   "metadata": {},
   "outputs": [],
   "source": [
    "#заменим ценовой discount на экивалент % от стоимости \n",
    "delivery_data[\"discount\"] = (delivery_data.discount / (1/delivery_data.sub_total)) *100\n",
    "\n",
    "#тоже самое с tip\n",
    "delivery_data[\"tip\"] = (delivery_data.tip / (1/delivery_data.sub_total) )*100"
   ]
  },
  {
   "cell_type": "code",
   "execution_count": null,
   "id": "448be26e",
   "metadata": {},
   "outputs": [],
   "source": [
    "sns.kdeplot(delivery_data,x=\"discount\")"
   ]
  },
  {
   "cell_type": "code",
   "execution_count": null,
   "id": "9b32b3b7",
   "metadata": {},
   "outputs": [],
   "source": [
    "print(f\"Максимальная скидка из данных: {delivery_data.discount.max():.2f}\")"
   ]
  },
  {
   "cell_type": "code",
   "execution_count": null,
   "id": "7c753779",
   "metadata": {},
   "outputs": [],
   "source": [
    "bins = [0,5,10,20,50,92]\n",
    "labels = ['0-5%', '5-10%', '10-20%', '20-50%', '50-92%']\n",
    "delivery_data[\"discount\"] = pd.cut(delivery_data.discount,bins=bins,labels=labels)"
   ]
  },
  {
   "cell_type": "code",
   "execution_count": null,
   "id": "d7893162",
   "metadata": {},
   "outputs": [],
   "source": [
    "sns.countplot(delivery_data,x=\"discount\")"
   ]
  },
  {
   "cell_type": "code",
   "execution_count": null,
   "id": "1e48f12b",
   "metadata": {},
   "outputs": [],
   "source": [
    "sns.kdeplot(delivery_data,x=\"tip\")"
   ]
  },
  {
   "cell_type": "code",
   "execution_count": null,
   "id": "4995d0f8",
   "metadata": {},
   "outputs": [],
   "source": [
    "print(f\"Максимальные чаевые из данных: {delivery_data.tip.max():.2f}\")"
   ]
  },
  {
   "cell_type": "code",
   "execution_count": null,
   "id": "78dad75b",
   "metadata": {},
   "outputs": [],
   "source": [
    "bins = [0,5,10,20,50,90]\n",
    "labels = ['0-5%', '5-10%', '10-20%', '20-50%', '50-90%']\n",
    "delivery_data[\"tip\"] = pd.cut(delivery_data.tip,bins=bins,labels=labels)"
   ]
  },
  {
   "cell_type": "code",
   "execution_count": null,
   "id": "6cfea3ff",
   "metadata": {},
   "outputs": [],
   "source": [
    "sns.countplot(delivery_data,x=\"tip\")"
   ]
  },
  {
   "cell_type": "markdown",
   "id": "c8804ddc",
   "metadata": {},
   "source": [
    "# Замена классифицируемой переменной на фактор\n",
    "Исследуется факт возврата, а не вероятное количество возращаемой суммы."
   ]
  },
  {
   "cell_type": "code",
   "execution_count": null,
   "id": "07bd4ddb",
   "metadata": {},
   "outputs": [],
   "source": [
    "delivery_data[\"refund\"] = delivery_data.refund >0"
   ]
  },
  {
   "cell_type": "markdown",
   "id": "959aa073",
   "metadata": {},
   "source": [
    "# updated EDA Анализ взаимодействий переменных"
   ]
  },
  {
   "cell_type": "markdown",
   "id": "3f929d0d",
   "metadata": {},
   "source": [
    "## Скидки"
   ]
  },
  {
   "cell_type": "code",
   "execution_count": null,
   "id": "10f43091",
   "metadata": {},
   "outputs": [],
   "source": [
    "sns.countplot(delivery_data,x=\"discount\",hue=\"refund\")"
   ]
  },
  {
   "cell_type": "markdown",
   "id": "60060c96",
   "metadata": {},
   "source": [
    "### Рассмотрим поближе экстремальные случаи"
   ]
  },
  {
   "cell_type": "code",
   "execution_count": null,
   "id": "16ddd789",
   "metadata": {},
   "outputs": [],
   "source": [
    "sns.countplot(delivery_data[(delivery_data.discount==\"20-50%\") | (delivery_data.discount==\"50-92%\")],x=\"discount\",hue=\"refund\")"
   ]
  },
  {
   "cell_type": "markdown",
   "id": "5d64dcca",
   "metadata": {},
   "source": [
    "Анализ показывает, что возвраты происходят чаще, если скидка маленькая и реже, если скидка большая"
   ]
  },
  {
   "cell_type": "code",
   "execution_count": null,
   "id": "1cfa09cb",
   "metadata": {},
   "outputs": [],
   "source": [
    "sns.lineplot(delivery_data,x= \"discount\",y=\"sub_total\")"
   ]
  },
  {
   "cell_type": "code",
   "execution_count": null,
   "id": "d7a51e2e",
   "metadata": {},
   "outputs": [],
   "source": [
    "sns.lineplot(delivery_data,y=\"delivery_time\",x=\"discount\")"
   ]
  },
  {
   "cell_type": "markdown",
   "id": "c2c0b727",
   "metadata": {},
   "source": [
    "## Сторонние фаторы цены"
   ]
  },
  {
   "cell_type": "code",
   "execution_count": null,
   "id": "3c553d21",
   "metadata": {},
   "outputs": [],
   "source": [
    "sns.lineplot(delivery_data,x=\"delivery_fee\", y=\"sub_total\")"
   ]
  },
  {
   "cell_type": "code",
   "execution_count": null,
   "id": "8a1899e3",
   "metadata": {},
   "outputs": [],
   "source": [
    "sns.lineplot(delivery_data,x=\"service_fee\",y=\"sub_total\")"
   ]
  },
  {
   "cell_type": "markdown",
   "id": "b3984013",
   "metadata": {},
   "source": [
    "### Корреляция с возвратом"
   ]
  },
  {
   "cell_type": "code",
   "execution_count": null,
   "id": "b65b1613",
   "metadata": {},
   "outputs": [],
   "source": [
    "sns.boxplot(delivery_data, x=\"service_fee\", hue=\"refund\")"
   ]
  },
  {
   "cell_type": "code",
   "execution_count": null,
   "id": "3a6ceb9e",
   "metadata": {},
   "outputs": [],
   "source": [
    "sns.pointplot(delivery_data, y=\"service_fee\", x=\"refund\")"
   ]
  },
  {
   "cell_type": "code",
   "execution_count": null,
   "id": "a33fe4be",
   "metadata": {},
   "outputs": [],
   "source": [
    "sns.boxplot(delivery_data, x=\"delivery_fee\", hue=\"refund\")"
   ]
  },
  {
   "cell_type": "code",
   "execution_count": null,
   "id": "732cdb81",
   "metadata": {},
   "outputs": [],
   "source": [
    "sns.pointplot(delivery_data, y=\"delivery_fee\", x=\"refund\")"
   ]
  },
  {
   "cell_type": "markdown",
   "id": "deacc9eb",
   "metadata": {},
   "source": [
    "Даже если различия статистически значимы, смещение медиан в обоих случаях настоллько незначительное, что практически не дает нам данных.\n",
    "Кроме того, переменная стоимости сервиса коррелирует со стоимостью.\n",
    "Было решено объединить эти параметры для улучшения модели"
   ]
  },
  {
   "cell_type": "markdown",
   "id": "620154c1",
   "metadata": {},
   "source": [
    "## Время доставки"
   ]
  },
  {
   "cell_type": "code",
   "execution_count": null,
   "id": "8460d09b",
   "metadata": {},
   "outputs": [],
   "source": [
    "sns.boxplot(delivery_data,x = \"delivery_time\", hue=\"refund\")"
   ]
  },
  {
   "cell_type": "code",
   "execution_count": null,
   "id": "6904356a",
   "metadata": {},
   "outputs": [],
   "source": [
    "sns.pointplot(delivery_data,x=\"refund\",y=\"delivery_time\")"
   ]
  },
  {
   "cell_type": "code",
   "execution_count": null,
   "id": "1961e41b",
   "metadata": {},
   "outputs": [],
   "source": [
    "sns.boxplot(delivery_data, x=\"ASAP\",y=\"delivery_time\", hue=\"refund\")"
   ]
  },
  {
   "cell_type": "code",
   "execution_count": null,
   "id": "8d895ba6",
   "metadata": {},
   "outputs": [],
   "source": [
    "sns.pointplot(delivery_data,x=\"refund\",y=\"delivery_time\", hue = \"ASAP\")"
   ]
  },
  {
   "cell_type": "markdown",
   "id": "e8e66690",
   "metadata": {},
   "source": [
    "## Чаевые"
   ]
  },
  {
   "cell_type": "code",
   "execution_count": null,
   "id": "9f7616c4",
   "metadata": {},
   "outputs": [],
   "source": [
    "sns.countplot(delivery_data,x=\"tip\",hue=\"refund\")"
   ]
  },
  {
   "cell_type": "markdown",
   "id": "7cadcb80",
   "metadata": {},
   "source": [
    "## Дни недели"
   ]
  },
  {
   "cell_type": "code",
   "execution_count": null,
   "id": "c8ddad51",
   "metadata": {},
   "outputs": [],
   "source": [
    "sns.countplot(delivery_data,x=\"Date\",hue=\"refund\")"
   ]
  },
  {
   "cell_type": "markdown",
   "id": "d5b7c86f",
   "metadata": {},
   "source": [
    "# Feature engineering"
   ]
  },
  {
   "cell_type": "markdown",
   "id": "ae32ae1a",
   "metadata": {},
   "source": [
    "## Объединяем цены"
   ]
  },
  {
   "cell_type": "code",
   "execution_count": null,
   "id": "0d943508",
   "metadata": {},
   "outputs": [],
   "source": [
    "#объединяем цены\n",
    "delivery_data[\"sub_total\"] = (1 / \n",
    "                              ((1/ delivery_data.sub_total) + delivery_data.delivery_fee + delivery_data.service_fee))\n",
    "\n",
    "#старые переменные уже не нужны\n",
    "delivery_data = delivery_data.drop([\"delivery_fee\",\"service_fee\"],axis=1)"
   ]
  },
  {
   "cell_type": "code",
   "execution_count": null,
   "id": "9fcddbe9",
   "metadata": {},
   "outputs": [],
   "source": [
    "sns.kdeplot(delivery_data, x=\"sub_total\")"
   ]
  },
  {
   "cell_type": "markdown",
   "id": "9b8690c9",
   "metadata": {},
   "source": [
    "## Распределение по времени заказа\n",
    "Распределим время как утро, день, вечер, ночь"
   ]
  },
  {
   "cell_type": "code",
   "execution_count": null,
   "id": "c972b1d3",
   "metadata": {},
   "outputs": [],
   "source": [
    "# ночь (00:00:00 - 04:59:59)\n",
    "# утро (05:00:00 - 09:59:59)\n",
    "# день (10:00:00 - 16:59:59)\n",
    "# вечер (17:00:00 - 21:59:59)\n",
    "# ночь (22:00:00 - 23:59:59)\n",
    "\n",
    "labels = [\"ночь\", \"утро\", \"день\", \"вечер\", \"ночь\"]\n",
    "\n",
    "# Преобразуем время в секунды\n",
    "time_delivered_seconds =(\n",
    "    time_delivered.dt.hour * 3600 +\n",
    "    time_delivered.dt.minute *60 +\n",
    "    time_delivered.dt.second\n",
    ")\n",
    "\n",
    "time_ordered_seconds =(\n",
    "    time_ordered.dt.hour * 3600 +\n",
    "    time_ordered.dt.minute *60 +\n",
    "    time_ordered.dt.second\n",
    ")\n",
    "\n",
    "delivery_data[\"time_delivered\"] = pd.cut(time_delivered_seconds,\n",
    "        bins =[0,5*3600, 10*3600, 17*3600, 22*3600, 24*3600], \n",
    "        labels=labels, ordered = False)\n",
    "\n",
    "delivery_data[\"time_ordered\"] = pd.cut(time_ordered_seconds,\n",
    "        bins =[0,5*3600, 10*3600, 17*3600, 22*3600, 24*3600], \n",
    "        labels=labels, ordered = False)"
   ]
  },
  {
   "cell_type": "code",
   "execution_count": null,
   "id": "8e9db9da",
   "metadata": {},
   "outputs": [],
   "source": [
    "delivery_data.head()"
   ]
  },
  {
   "cell_type": "markdown",
   "id": "2b0c65a1",
   "metadata": {},
   "source": [
    "# Final EDA"
   ]
  },
  {
   "cell_type": "markdown",
   "id": "6dc05a3f",
   "metadata": {},
   "source": [
    "## Зависимость дня недели и возврата"
   ]
  },
  {
   "cell_type": "code",
   "execution_count": null,
   "id": "b9c41e99",
   "metadata": {},
   "outputs": [],
   "source": [
    "sns.barplot(delivery_data,hue=\"Date\", y=\"refund\")"
   ]
  },
  {
   "cell_type": "code",
   "execution_count": null,
   "id": "b8c3b4a8",
   "metadata": {},
   "outputs": [],
   "source": [
    "date_refund_table = pd.crosstab(delivery_data.Date, delivery_data.refund)"
   ]
  },
  {
   "cell_type": "code",
   "execution_count": null,
   "id": "a5f07ad5",
   "metadata": {},
   "outputs": [],
   "source": [
    "print(f\"Уровень p-value Хи-квадрат теста: {chi2_contingency(date_refund_table).pvalue:.2f}\")"
   ]
  },
  {
   "cell_type": "markdown",
   "id": "51d64c54",
   "metadata": {},
   "source": [
    "## Промежуток времени оформления заказа и возврат"
   ]
  },
  {
   "cell_type": "markdown",
   "id": "ae41ef25",
   "metadata": {},
   "source": [
    "### Время заказа позиции"
   ]
  },
  {
   "cell_type": "code",
   "execution_count": null,
   "id": "bc55cee1",
   "metadata": {},
   "outputs": [],
   "source": [
    "sns.countplot(delivery_data,x=\"time_ordered\")"
   ]
  },
  {
   "cell_type": "code",
   "execution_count": null,
   "id": "d20f57c5",
   "metadata": {},
   "outputs": [],
   "source": [
    "sns.barplot(delivery_data,y=\"refund\", hue=\"time_ordered\")"
   ]
  },
  {
   "cell_type": "code",
   "execution_count": null,
   "id": "75005d82",
   "metadata": {},
   "outputs": [],
   "source": [
    "pd.crosstab(delivery_data.time_ordered,delivery_data.refund)"
   ]
  },
  {
   "cell_type": "code",
   "execution_count": null,
   "id": "0881cb77",
   "metadata": {},
   "outputs": [],
   "source": [
    "print(f\"Уровень p-value Хи-квадрат теста: {chi2_contingency(pd.crosstab(delivery_data.time_ordered,delivery_data.refund)).pvalue:.2f}\")"
   ]
  },
  {
   "cell_type": "markdown",
   "id": "227df0ac",
   "metadata": {},
   "source": [
    "### Время приезда заказа клиенту"
   ]
  },
  {
   "cell_type": "code",
   "execution_count": null,
   "id": "992278de",
   "metadata": {},
   "outputs": [],
   "source": [
    "sns.countplot(delivery_data,x=\"time_delivered\")"
   ]
  },
  {
   "cell_type": "code",
   "execution_count": null,
   "id": "95a42c1c",
   "metadata": {},
   "outputs": [],
   "source": [
    "sns.barplot(delivery_data,y=\"refund\",hue=\"time_delivered\")"
   ]
  },
  {
   "cell_type": "code",
   "execution_count": null,
   "id": "dd5b639e",
   "metadata": {},
   "outputs": [],
   "source": [
    "pd.crosstab(delivery_data.time_delivered, delivery_data.refund)"
   ]
  },
  {
   "cell_type": "code",
   "execution_count": null,
   "id": "1d993787",
   "metadata": {},
   "outputs": [],
   "source": [
    "print(f\"Уровень p-value Хи-квадрат теста: {chi2_contingency(pd.crosstab(delivery_data.time_delivered, delivery_data.refund)).pvalue:.2f}\")"
   ]
  },
  {
   "cell_type": "markdown",
   "id": "0083c15f",
   "metadata": {},
   "source": [
    "## Место проведения доставок"
   ]
  },
  {
   "cell_type": "code",
   "execution_count": null,
   "id": "89ac8ea6",
   "metadata": {},
   "outputs": [],
   "source": [
    "sns.barplot(delivery_data,y=\"refund\",hue=\"delivery_area\")"
   ]
  },
  {
   "cell_type": "code",
   "execution_count": null,
   "id": "624872a2",
   "metadata": {},
   "outputs": [],
   "source": [
    "pd.crosstab(delivery_data.delivery_area, delivery_data.refund)"
   ]
  },
  {
   "cell_type": "code",
   "execution_count": null,
   "id": "ac8fc712",
   "metadata": {},
   "outputs": [],
   "source": [
    "print(f\"Уровень p-value Хи-квадрат теста: {chi2_contingency(pd.crosstab(delivery_data.delivery_area, delivery_data.refund)).pvalue:.2f}\")"
   ]
  },
  {
   "cell_type": "markdown",
   "id": "88368855",
   "metadata": {},
   "source": [
    "## As Soon As Possible показатель"
   ]
  },
  {
   "cell_type": "code",
   "execution_count": null,
   "id": "83793c1c",
   "metadata": {},
   "outputs": [],
   "source": [
    "sns.pointplot(delivery_data,y=\"refund\",x=\"ASAP\")"
   ]
  },
  {
   "cell_type": "code",
   "execution_count": null,
   "id": "2599c1c7",
   "metadata": {},
   "outputs": [],
   "source": [
    "cross_tab = pd.crosstab(delivery_data.ASAP,delivery_data.refund)\n",
    "cross_tab"
   ]
  },
  {
   "cell_type": "code",
   "execution_count": null,
   "id": "76873f4b",
   "metadata": {},
   "outputs": [],
   "source": [
    "print(f\"Уровень p-value Хи-квадрат теста: {chi2_contingency(cross_tab).pvalue:.2f}\")"
   ]
  },
  {
   "cell_type": "markdown",
   "id": "f01a81a9",
   "metadata": {},
   "source": [
    "сила связи по формуле Cramers V не подходит из-за дисбаланса классов. Посмотрим средние отношения и доверительные интервалы по ним"
   ]
  },
  {
   "cell_type": "code",
   "execution_count": null,
   "id": "44836b08",
   "metadata": {},
   "outputs": [],
   "source": [
    "proportions = delivery_data.groupby(\"ASAP\")[\"refund\"].mean()\n",
    "print(f\"Средний процент возврата в группе ASAP '{proportions.index[0]}': {proportions.iloc[0]:.3f}\")\n",
    "\n",
    "print(f\"Средний процент возврата в группе ASAP '{proportions.index[1]}': {proportions.iloc[1]:.3f}\")\n",
    "\n",
    "print(f\"Относительный риск между первой и 2-й группами: '{proportions.index[0]}': {proportions.iloc[0] / proportions.iloc[1]:.3f} ({((proportions.iloc[0] / proportions.iloc[1])-1)*100:.3f}%)\")"
   ]
  },
  {
   "cell_type": "markdown",
   "id": "3024716b",
   "metadata": {},
   "source": [
    "Практическая значимость объясняется тем, что при факторе ASAP \"No\" вероятность возврата на 13% больше, чем с ASAP \"Yes\".\n",
    "Вероятно причиной является взаимодействие факторов времени и требует дополнительного анализа"
   ]
  },
  {
   "cell_type": "markdown",
   "id": "c3900ec0",
   "metadata": {},
   "source": [
    "#### Взаимодействие с временем доставки"
   ]
  },
  {
   "cell_type": "code",
   "execution_count": null,
   "id": "b91c34b9",
   "metadata": {},
   "outputs": [],
   "source": [
    "sns.boxplot(delivery_data, y=\"delivery_time\",x=\"ASAP\",hue=\"refund\")"
   ]
  },
  {
   "cell_type": "code",
   "execution_count": null,
   "id": "25596092",
   "metadata": {},
   "outputs": [],
   "source": [
    "time_table = 1 / delivery_data.groupby([\"refund\",\"ASAP\"]).delivery_time.mean()\n",
    "print(f\"Разница среднего времени в группе ASAP NO: {time_table.iloc[2] - time_table.iloc[0]:.2f}\")\n",
    "print(f\"Разница среднего времени в группе ASAP YES: {time_table.iloc[3] - time_table.iloc[1]:.2f}\")\n",
    "time_table"
   ]
  },
  {
   "cell_type": "markdown",
   "id": "2c0b2b0b",
   "metadata": {},
   "source": [
    "Хоть разница и статистически значима, практическая ценность взаимодействия фактора ASAP и время доставки сомнительно"
   ]
  },
  {
   "cell_type": "markdown",
   "id": "46d3c8b9",
   "metadata": {},
   "source": [
    "## Цена товара"
   ]
  },
  {
   "cell_type": "code",
   "execution_count": null,
   "id": "11d65466",
   "metadata": {},
   "outputs": [],
   "source": [
    "sns.boxplot(delivery_data, y=\"sub_total\", hue=\"refund\")"
   ]
  },
  {
   "cell_type": "code",
   "execution_count": null,
   "id": "2680a574",
   "metadata": {},
   "outputs": [],
   "source": [
    "sns.pointplot(delivery_data, y=\"sub_total\",x=\"refund\")"
   ]
  },
  {
   "cell_type": "code",
   "execution_count": null,
   "id": "c85bbc48",
   "metadata": {},
   "outputs": [],
   "source": [
    "print(f\"p-value теста манауитни {mannwhitneyu(delivery_data.sub_total,delivery_data.refund).pvalue:.2f}\")"
   ]
  },
  {
   "cell_type": "code",
   "execution_count": null,
   "id": "2b015faa",
   "metadata": {},
   "outputs": [],
   "source": [
    "print(f\"Средня цена товара  датасете: {1 / delivery_data.sub_total.mean():.2f}$\")"
   ]
  },
  {
   "cell_type": "code",
   "execution_count": null,
   "id": "ed63449f",
   "metadata": {},
   "outputs": [],
   "source": [
    "1 / delivery_data.groupby(\"refund\")[\"sub_total\"].describe().drop([\"count\",\"min\",\"max\",\"std\"],axis=1)"
   ]
  },
  {
   "cell_type": "markdown",
   "id": "d8094724",
   "metadata": {},
   "source": [
    "Хоть и разницы между ценами оказались статистически значимы практической разница в данных очень мало (разница в )"
   ]
  },
  {
   "cell_type": "markdown",
   "id": "d9bf4950",
   "metadata": {},
   "source": [
    "## Скидка"
   ]
  },
  {
   "cell_type": "code",
   "execution_count": null,
   "id": "3368da9b",
   "metadata": {},
   "outputs": [],
   "source": [
    "sns.barplot(delivery_data,y=\"refund\",hue=\"discount\")"
   ]
  },
  {
   "cell_type": "code",
   "execution_count": null,
   "id": "b2bb8f1c",
   "metadata": {},
   "outputs": [],
   "source": [
    "cross_tab = pd.crosstab(delivery_data.discount,delivery_data.refund)\n",
    "cross_tab"
   ]
  },
  {
   "cell_type": "code",
   "execution_count": null,
   "id": "08e90aac",
   "metadata": {},
   "outputs": [],
   "source": [
    "print(f\"p-value Хи квадрат для переменных: {chi2_contingency(cross_tab).pvalue:.2f}\")"
   ]
  },
  {
   "cell_type": "markdown",
   "id": "695a0956",
   "metadata": {},
   "source": [
    "## Чаевые"
   ]
  },
  {
   "cell_type": "code",
   "execution_count": null,
   "id": "bbc08fe3",
   "metadata": {},
   "outputs": [],
   "source": [
    "sns.barplot(delivery_data,y=\"refund\",hue=\"tip\")"
   ]
  },
  {
   "cell_type": "code",
   "execution_count": null,
   "id": "7174b257",
   "metadata": {},
   "outputs": [],
   "source": [
    "sns.pointplot(delivery_data, y=\"refund\", x=\"tip\")"
   ]
  },
  {
   "cell_type": "code",
   "execution_count": null,
   "id": "2be8dde5",
   "metadata": {},
   "outputs": [],
   "source": [
    "cross_tab = pd.crosstab(delivery_data.tip, delivery_data.refund)\n",
    "cross_tab"
   ]
  },
  {
   "cell_type": "code",
   "execution_count": null,
   "id": "ba8d6188",
   "metadata": {},
   "outputs": [],
   "source": [
    "print(f\"p-value Хи-квадрат теста: {chi2_contingency(cross_tab).pvalue:.2f}\")"
   ]
  },
  {
   "cell_type": "markdown",
   "id": "570a5403",
   "metadata": {},
   "source": [
    "## Время доставки"
   ]
  },
  {
   "cell_type": "code",
   "execution_count": null,
   "id": "54518bae",
   "metadata": {},
   "outputs": [],
   "source": [
    "sns.boxplot(delivery_data,y=\"delivery_time\",hue=\"refund\")"
   ]
  },
  {
   "cell_type": "code",
   "execution_count": null,
   "id": "1779a005",
   "metadata": {},
   "outputs": [],
   "source": [
    "sns.pointplot(delivery_data,x=\"refund\",y=\"delivery_time\")"
   ]
  },
  {
   "cell_type": "code",
   "execution_count": null,
   "id": "495efdf7",
   "metadata": {},
   "outputs": [],
   "source": [
    "print(f\"P-value теста Манауитни: {mannwhitneyu(delivery_data.delivery_time,delivery_data.refund).pvalue:.2f}\")"
   ]
  },
  {
   "cell_type": "markdown",
   "id": "aa049ddf",
   "metadata": {},
   "source": [
    "# Создание модели"
   ]
  },
  {
   "cell_type": "code",
   "execution_count": null,
   "id": "4f72185f",
   "metadata": {},
   "outputs": [],
   "source": [
    "from sklearn.linear_model  import LogisticRegression\n",
    "from sklearn.tree import DecisionTreeClassifier, plot_tree\n",
    "from sklearn.model_selection import train_test_split, GridSearchCV\n",
    "\n",
    "from sklearn.metrics import RocCurveDisplay"
   ]
  },
  {
   "cell_type": "code",
   "execution_count": null,
   "id": "a128ea6e",
   "metadata": {},
   "outputs": [],
   "source": [
    "delivery_data.set_index(\"customer_id\")\n",
    "dataset = pd.get_dummies(delivery_data)\n",
    "\n",
    "X = dataset.drop([\"refund\"],axis=1)\n",
    "Y = dataset[\"refund\"]\n",
    "X_train, X_test, y_train, y_test = train_test_split(X,Y,test_size=0.25)"
   ]
  },
  {
   "cell_type": "markdown",
   "id": "3694bf2e",
   "metadata": {},
   "source": [
    "## Логистическая регрессия"
   ]
  },
  {
   "cell_type": "markdown",
   "id": "c78ede32",
   "metadata": {},
   "source": [
    "### Без предварительной подготовки модели\n",
    "Изучим поведение модели без предварительного изменения гиперпараметров"
   ]
  },
  {
   "cell_type": "code",
   "execution_count": null,
   "id": "8b43b37b",
   "metadata": {},
   "outputs": [],
   "source": [
    "parameters = [\n",
    "    #Параметры для l1 регуляризации\n",
    "    {\"penalty\":[\"l1\"],\n",
    "    \"fit_intercept\":[True,False],\n",
    "    \"solver\":[\"liblinear\"],\n",
    "    \"C\": np.logspace(-4, 4, 10)\n",
    "    },\n",
    "    \n",
    "    #Параметры для l2 регуляризации\n",
    "    {\"penalty\":[\"l2\"],\n",
    "    \"fit_intercept\":[True,False],\n",
    "    \"solver\":[\"liblinear\", \"lbfgs\"],\n",
    "    \"C\": np.logspace(-4, 4, 10)\n",
    "    }\n",
    "    ]\n",
    "\n",
    "clf = LogisticRegression(random_state=42, max_iter=1000, class_weight=\"balanced\")\n",
    "\n",
    "search = GridSearchCV(clf,param_grid=parameters, cv = 5, scoring=\"f1\", verbose=1, n_jobs=-1)\n",
    "search.fit(X_train, y_train)"
   ]
  },
  {
   "cell_type": "code",
   "execution_count": null,
   "id": "8411c209",
   "metadata": {},
   "outputs": [],
   "source": [
    "clf = LogisticRegression(random_state=42, max_iter=1000, penalty=\"l1\",class_weight=\"balanced\",solver=\"liblinear\")\n",
    "clf.fit(X_train, y_train)"
   ]
  },
  {
   "cell_type": "code",
   "execution_count": null,
   "id": "44169a82",
   "metadata": {},
   "outputs": [],
   "source": [
    "RocCurveDisplay.from_estimator(clf,X_test,y_test, plot_chance_level=True)"
   ]
  },
  {
   "cell_type": "markdown",
   "id": "dca253ec",
   "metadata": {},
   "source": [
    "### Cнижение параметров"
   ]
  },
  {
   "cell_type": "code",
   "execution_count": null,
   "id": "54978337",
   "metadata": {},
   "outputs": [],
   "source": [
    "delivery_data.head()"
   ]
  },
  {
   "cell_type": "code",
   "execution_count": null,
   "id": "83c1b66e",
   "metadata": {},
   "outputs": [],
   "source": [
    "dataset = delivery_data\n",
    "dataset = dataset.drop([\"Date\",\"time_ordered\",\"time_delivered\",\"delivery_area\"],axis=1)\n",
    "dataset = pd.get_dummies(dataset)\n",
    "\n",
    "X = dataset.drop(\"refund\", axis=1)\n",
    "Y = dataset[\"refund\"]\n",
    "X_train, X_test, y_train, y_test = train_test_split(X,Y,test_size=0.25)"
   ]
  },
  {
   "cell_type": "code",
   "execution_count": null,
   "id": "d7f72189",
   "metadata": {},
   "outputs": [],
   "source": [
    "clf.fit(X_train, y_train)"
   ]
  },
  {
   "cell_type": "code",
   "execution_count": null,
   "id": "a9a1cbdc",
   "metadata": {},
   "outputs": [],
   "source": [
    "RocCurveDisplay.from_estimator(clf,X_test,y_test, plot_chance_level=True)"
   ]
  },
  {
   "cell_type": "markdown",
   "id": "e193039d",
   "metadata": {},
   "source": [
    "##"
   ]
  },
  {
   "cell_type": "markdown",
   "id": "f99dfeaa",
   "metadata": {},
   "source": [
    "## Дерево решений"
   ]
  },
  {
   "cell_type": "code",
   "execution_count": null,
   "id": "60bd4623",
   "metadata": {},
   "outputs": [],
   "source": [
    "clf = DecisionTreeClassifier(random_state=42)\n",
    "parameters = {\"max_depth\":range(1,10),\"class_weight\":[\"balanced\",None]}\n",
    "search = GridSearchCV(clf,param_grid=parameters)"
   ]
  },
  {
   "cell_type": "code",
   "execution_count": null,
   "id": "55651acc",
   "metadata": {},
   "outputs": [],
   "source": [
    "search.fit(X_train, y_train)"
   ]
  },
  {
   "cell_type": "code",
   "execution_count": null,
   "id": "3bd2214c",
   "metadata": {},
   "outputs": [],
   "source": [
    "plot_tree(search.best_estimator_,filled=True, feature_names=X_test.columns)"
   ]
  },
  {
   "cell_type": "code",
   "execution_count": null,
   "id": "6e3da138",
   "metadata": {},
   "outputs": [],
   "source": [
    "RocCurveDisplay.from_estimator(search.best_estimator_,X_test,y_test, plot_chance_level=True)"
   ]
  },
  {
   "cell_type": "code",
   "execution_count": null,
   "id": "cbf4ed35",
   "metadata": {},
   "outputs": [],
   "source": []
  }
 ],
 "metadata": {
  "kernelspec": {
   "display_name": "Python 3",
   "language": "python",
   "name": "python3"
  },
  "language_info": {
   "codemirror_mode": {
    "name": "ipython",
    "version": 3
   },
   "file_extension": ".py",
   "mimetype": "text/x-python",
   "name": "python",
   "nbconvert_exporter": "python",
   "pygments_lexer": "ipython3",
   "version": "3.11.9"
  }
 },
 "nbformat": 4,
 "nbformat_minor": 5
}
